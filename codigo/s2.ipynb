{
 "cells": [
  {
   "cell_type": "code",
   "execution_count": 6,
   "metadata": {},
   "outputs": [],
   "source": [
    "import pandas as pd\n",
    "import numpy as np\n",
    "import matplotlib.pyplot as plt\n",
    "import seaborn as sns\n",
    "import requests\n",
    "import json"
   ]
  },
  {
   "cell_type": "code",
   "execution_count": 12,
   "metadata": {},
   "outputs": [],
   "source": [
    "serie = \"PD04640PD\"\n",
    "estructura = f\"https://estadisticas.bcrp.gob.pe/estadisticas/series/api/{serie}/json\"\n",
    "\n",
    "data = requests.get(estructura).json()"
   ]
  },
  {
   "cell_type": "code",
   "execution_count": 22,
   "metadata": {},
   "outputs": [
    {
     "data": {
      "text/html": [
       "<div>\n",
       "<style scoped>\n",
       "    .dataframe tbody tr th:only-of-type {\n",
       "        vertical-align: middle;\n",
       "    }\n",
       "\n",
       "    .dataframe tbody tr th {\n",
       "        vertical-align: top;\n",
       "    }\n",
       "\n",
       "    .dataframe thead th {\n",
       "        text-align: right;\n",
       "    }\n",
       "</style>\n",
       "<table border=\"1\" class=\"dataframe\">\n",
       "  <thead>\n",
       "    <tr style=\"text-align: right;\">\n",
       "      <th></th>\n",
       "      <th>name</th>\n",
       "      <th>values</th>\n",
       "    </tr>\n",
       "  </thead>\n",
       "  <tbody>\n",
       "    <tr>\n",
       "      <th>0</th>\n",
       "      <td>14.Feb.25</td>\n",
       "      <td>3.712</td>\n",
       "    </tr>\n",
       "    <tr>\n",
       "      <th>1</th>\n",
       "      <td>17.Feb.25</td>\n",
       "      <td>3.708</td>\n",
       "    </tr>\n",
       "    <tr>\n",
       "      <th>2</th>\n",
       "      <td>18.Feb.25</td>\n",
       "      <td>3.695</td>\n",
       "    </tr>\n",
       "    <tr>\n",
       "      <th>3</th>\n",
       "      <td>19.Feb.25</td>\n",
       "      <td>3.69</td>\n",
       "    </tr>\n",
       "    <tr>\n",
       "      <th>4</th>\n",
       "      <td>20.Feb.25</td>\n",
       "      <td>3.687</td>\n",
       "    </tr>\n",
       "  </tbody>\n",
       "</table>\n",
       "</div>"
      ],
      "text/plain": [
       "        name values\n",
       "0  14.Feb.25  3.712\n",
       "1  17.Feb.25  3.708\n",
       "2  18.Feb.25  3.695\n",
       "3  19.Feb.25   3.69\n",
       "4  20.Feb.25  3.687"
      ]
     },
     "execution_count": 22,
     "metadata": {},
     "output_type": "execute_result"
    }
   ],
   "source": [
    "## Convertir a dataframe\n",
    "df = pd.DataFrame(data[\"periods\"])\n",
    "df[\"values\"] = df[\"values\"].apply(lambda x: x[0])\n",
    "df.head()"
   ]
  },
  {
   "cell_type": "code",
   "execution_count": 31,
   "metadata": {},
   "outputs": [],
   "source": [
    "## Implementar indicadores de calidad\n",
    "\n",
    "# Completitud \n",
    "\n",
    "def calcular_metricas_calidad(df):\n",
    "    completitud = df[\"values\"].count() / df[\"values\"].size\n",
    "    print(f\"Completitud: {completitud}\")\n",
    "\n",
    "    # Porcentaje de repetidos\n",
    "\n",
    "    unicos = df.duplicated().sum() / df.size\n",
    "    print(f\"Porcentaje de repetidos: {unicos}\")\n",
    "\n",
    "    # Porcentaje de valores nulos\n",
    "\n",
    "    nulos = df[\"values\"].isnull().sum() / df[\"values\"].size\n",
    "    print(f\"Porcentaje de valores nulos: {nulos}\")\n",
    "\n",
    "    metricas = {\n",
    "        \"completitud\": completitud,\n",
    "        \"unicos\": unicos,\n",
    "        \"nulos\": nulos\n",
    "    }\n",
    "    return metricas"
   ]
  },
  {
   "cell_type": "code",
   "execution_count": 32,
   "metadata": {},
   "outputs": [
    {
     "name": "stdout",
     "output_type": "stream",
     "text": [
      "Completitud: 1.0\n",
      "Porcentaje de repetidos: 0.0\n",
      "Porcentaje de valores nulos: 0.0\n"
     ]
    },
    {
     "data": {
      "text/plain": [
       "{'completitud': 1.0, 'unicos': 0.0, 'nulos': 0.0}"
      ]
     },
     "execution_count": 32,
     "metadata": {},
     "output_type": "execute_result"
    }
   ],
   "source": [
    "calcular_metricas_calidad(df)"
   ]
  },
  {
   "cell_type": "markdown",
   "metadata": {},
   "source": [
    "# Explicación de las métricas\n",
    "\n",
    "### Completitud\n",
    "\n",
    "Mide el porcentaje de datos vacíos. Es importante se trata de tipo de cambio y ninguna fecha debería tener datos vacíos"
   ]
  }
 ],
 "metadata": {
  "kernelspec": {
   "display_name": "Python 3",
   "language": "python",
   "name": "python3"
  },
  "language_info": {
   "codemirror_mode": {
    "name": "ipython",
    "version": 3
   },
   "file_extension": ".py",
   "mimetype": "text/x-python",
   "name": "python",
   "nbconvert_exporter": "python",
   "pygments_lexer": "ipython3",
   "version": "3.12.2"
  }
 },
 "nbformat": 4,
 "nbformat_minor": 2
}
